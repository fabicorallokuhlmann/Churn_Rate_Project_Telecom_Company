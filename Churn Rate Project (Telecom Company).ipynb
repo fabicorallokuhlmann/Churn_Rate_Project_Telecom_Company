{
 "cells": [
  {
   "cell_type": "code",
   "execution_count": null,
   "id": "880cb79a",
   "metadata": {},
   "outputs": [],
   "source": [
    "#importando a base de dados\n",
    "import pandas as pd\n",
    "tabela = pd.read_csv(\"telecom_users.csv\")\n",
    "\n",
    "#visualizando a base de dados\n",
    "display(tabela)\n",
    "print(tabela.columns)"
   ]
  },
  {
   "cell_type": "code",
   "execution_count": null,
   "id": "ebf631a8",
   "metadata": {},
   "outputs": [],
   "source": [
    "#identificando os possíveis tratamentos necessários na tabela \n",
    "display(tabela.info())\n",
    "\n",
    "# corrigindo valores reconhecidos de forma errada (total gasto é um valor numérico e não um texto)\n",
    "tabela[\"TotalGasto\"] = pd.to_numeric(tabela[\"TotalGasto\"], errors=\"coerce\")\n",
    "\n",
    "# deletando as colunas vazias (axis = 1 -> coluna)\n",
    "tabela = tabela.dropna(how=\"all\", axis=1)\n",
    "\n",
    "# deletando as linhas vazias (# axis = 0 -> linha)\n",
    "tabela = tabela.dropna(how=\"any\", axis=0)\n",
    "\n",
    "# retirando colunas que desnecessárias para a análise\n",
    "tabela = tabela.drop(\"Unnamed: 0\", axis=1)\n",
    "tabela = tabela.drop(\"IDCliente\", axis=1)\n",
    "\n",
    "display(tabela.info())"
   ]
  },
  {
   "cell_type": "code",
   "execution_count": null,
   "id": "17650dff",
   "metadata": {},
   "outputs": [],
   "source": [
    "#quantas pessoas cancelaram e não cancelaram\n",
    "display(tabela[\"Churn\"].value_counts())\n",
    "display(tabela[\"Churn\"].value_counts(normalize = True).map(\"{:.1%}\".format))"
   ]
  },
  {
   "cell_type": "code",
   "execution_count": null,
   "id": "86e604b8",
   "metadata": {},
   "outputs": [],
   "source": [
    "import plotly.express as px"
   ]
  },
  {
   "cell_type": "code",
   "execution_count": null,
   "id": "43bd0a08",
   "metadata": {},
   "outputs": [],
   "source": [
    "for coluna in tabela.columns:\n",
    "    grafico = px.histogram(tabela, x = coluna, color = \"Churn\", text_auto = True, nbins=5)\n",
    "    grafico.show()"
   ]
  },
  {
   "cell_type": "code",
   "execution_count": null,
   "id": "d90319f4",
   "metadata": {},
   "outputs": [],
   "source": [
    "Escreva aqui suas conclusões:\n",
    "\n",
    "- Clientes com contrato mensal tem MUITO mais chance de cancelar:\n",
    "    - Podemos fazer promoções para o cliente ir para o contrato anual\n",
    "    \n",
    "- Familias maiores tendem a cancelar menos do que famílias menores\n",
    "    - Podemos fazer promoções pra pessoa pegar uma linha adicional de telefone\n",
    "    \n",
    "- MesesComoCliente baixos tem MUITO cancelamento. Clientes com pouco tempo como cliente tendem a cancelar muito\n",
    "    - A primeira experiência do cliente na operadora pode ser ruim\n",
    "    - Talvez a captação de clientes tá trazendo clientes desqualificados\n",
    "    - Ideia: a gente pode criar incentivo pro cara ficar mais tempo como cliente\n",
    "    \n",
    "- QUanto mais serviços o cara tem, menos chance dele cancelar\n",
    "    - podemos fazer promoções com mais serviços pro cliente\n",
    "    \n",
    "- Tem alguma coisa no nosso serviço de Fibra que tá fazendo os clientes cancelarem\n",
    "    - Agir sobre a fibra\n",
    "    \n",
    "- Clientes no boleto tem MUITO mais chance de cancelar, então temos que fazer alguma ação para eles irem para as outras formas de pagamento"
   ]
  }
 ],
 "metadata": {
  "kernelspec": {
   "display_name": "Python 3 (ipykernel)",
   "language": "python",
   "name": "python3"
  },
  "language_info": {
   "codemirror_mode": {
    "name": "ipython",
    "version": 3
   },
   "file_extension": ".py",
   "mimetype": "text/x-python",
   "name": "python",
   "nbconvert_exporter": "python",
   "pygments_lexer": "ipython3",
   "version": "3.11.4"
  }
 },
 "nbformat": 4,
 "nbformat_minor": 5
}
